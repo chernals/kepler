{
 "cells": [
  {
   "cell_type": "code",
   "execution_count": 5,
   "metadata": {
    "collapsed": false
   },
   "outputs": [],
   "source": [
    "%config IPCompleter.greedy=True\n",
    "%reload_ext autoreload\n",
    "%autoreload 2\n",
    "%matplotlib inline\n",
    "import numpy as np\n",
    "import matplotlib.pyplot as plt\n",
    "import varilog as vrl"
   ]
  },
  {
   "cell_type": "code",
   "execution_count": 11,
   "metadata": {
    "collapsed": false
   },
   "outputs": [
    {
     "data": {
      "text/plain": [
       "['mte2015_optim', 'leir2015_test']"
      ]
     },
     "execution_count": 11,
     "metadata": {},
     "output_type": "execute_result"
    }
   ],
   "source": [
    "vrl.MD.names"
   ]
  },
  {
   "cell_type": "code",
   "execution_count": 19,
   "metadata": {
    "collapsed": false
   },
   "outputs": [
    {
     "name": "stdout",
     "output_type": "stream",
     "text": [
      "MD found with 1 cycles and 46 devices.\n"
     ]
    },
    {
     "data": {
      "text/plain": [
       "1980.0"
      ]
     },
     "execution_count": 19,
     "metadata": {},
     "output_type": "execute_result"
    }
   ],
   "source": [
    "mdleir = vrl.MD('leir2015_test', '1.0')\n",
    "mdleir.cycles['2015-12-14T00:33:41.255000'].EAX_EBTFMH.Delay.delay"
   ]
  },
  {
   "cell_type": "code",
   "execution_count": 12,
   "metadata": {
    "collapsed": false
   },
   "outputs": [
    {
     "name": "stdout",
     "output_type": "stream",
     "text": [
      "MD found with 1002 cycles and 63 devices.\n"
     ]
    }
   ],
   "source": [
    "md = vrl.MD(vrl.MD.names.mte2015_optim, '2.0')"
   ]
  },
  {
   "cell_type": "code",
   "execution_count": 35,
   "metadata": {
    "collapsed": false
   },
   "outputs": [
    {
     "data": {
      "text/plain": [
       "['chernals', 'sterbini']"
      ]
     },
     "execution_count": 35,
     "metadata": {},
     "output_type": "execute_result"
    }
   ],
   "source": [
    "md.users"
   ]
  },
  {
   "cell_type": "code",
   "execution_count": 77,
   "metadata": {
    "collapsed": true
   },
   "outputs": [],
   "source": [
    "def efficiency_analysis(cycle):\n",
    "    extr_eff = 100 * (\n",
    "        cycle.F16_BCT126.Acquisition.totalIntensityPreferred.value/cycle.PR_BCT.HotspotIntensity.dcBefEje1.value)\n",
    "    mte_eff = trap(cycle.F16_BCT126.Sampler.sampleData.value, 59, 204, 3)\n",
    "    intensity = cycle.PR_BCT.HotspotIntensity.dcBefEje1.value\n",
    "    if extr_eff > 97 and mte_eff > 17:\n",
    "        return [intensity, extr_eff, mte_eff]\n",
    "d1600g = np.array(list(filter(None, [efficiency_analysis(x) for x in md.cycles.values()])))\n",
    "print(np.mean(d1600g[:,1]))\n",
    "print(np.median(d1600g[:,1]))\n",
    "print(np.std(d1600g[:,1]))\n",
    "print(np.mean(d1600g[:,2]))\n",
    "print(np.median(d1600g[:,2]))\n",
    "print(np.std(d1600g[:,2]))"
   ]
  },
  {
   "cell_type": "code",
   "execution_count": 45,
   "metadata": {
    "collapsed": false
   },
   "outputs": [
    {
     "data": {
      "text/plain": [
       "<varilog.md.Parameters at 0x1069f35c0>"
      ]
     },
     "execution_count": 45,
     "metadata": {},
     "output_type": "execute_result"
    }
   ],
   "source": [
    "md.cycles['2015-11-08T23:00:15.099999']"
   ]
  },
  {
   "cell_type": "code",
   "execution_count": 41,
   "metadata": {
    "collapsed": false
   },
   "outputs": [
    {
     "data": {
      "text/plain": [
       "[[datetime.datetime(2015, 11, 8, 22, 59, 59, 500000)\n",
       "  array([ 3752.51757812,  3752.53881836,  3752.54614258, ...,  3752.73120117,\n",
       "        3752.75634766,  3752.75634766])]\n",
       " [datetime.datetime(2015, 11, 8, 23, 0, 15, 99999)\n",
       "  array([ 3758.68994141,  3758.63647461,  3758.69360352, ...,  3758.89331055,\n",
       "        3758.86474609,  3758.88964844])]\n",
       " [datetime.datetime(2015, 11, 8, 23, 0, 58, 299999)\n",
       "  array([ 3758.32788086,  3758.34204102,  3758.32080078, ...,  3758.50268555,\n",
       "        3758.54541016,  3758.50268555])]\n",
       " ..., \n",
       " [datetime.datetime(2015, 11, 9, 6, 1, 58, 299999)\n",
       "  array([ 3779.00415039,  3779.0078125 ,  3779.02563477, ...,  3779.23388672,\n",
       "        3779.2121582 ,  3779.25170898])]\n",
       " [datetime.datetime(2015, 11, 9, 6, 2, 16, 299999)\n",
       "  array([ 3762.34960938,  3762.36401367,  3762.34960938, ...,  3762.50317383,\n",
       "        3762.57470703,  3762.50683594])]\n",
       " [datetime.datetime(2015, 11, 9, 6, 2, 34, 299999)\n",
       "  array([ 3763.01098633,  3762.97509766,  3762.96435547, ...,  3763.18237305,\n",
       "        3763.17163086,  3763.16821289])]]"
      ]
     },
     "execution_count": 41,
     "metadata": {},
     "output_type": "execute_result"
    }
   ],
   "source": [
    "md.parameters.F16_BCT203.Sampler.sampleData"
   ]
  },
  {
   "cell_type": "code",
   "execution_count": 114,
   "metadata": {
    "collapsed": false
   },
   "outputs": [
    {
     "name": "stdout",
     "output_type": "stream",
     "text": [
      "CPU times: user 98.6 ms, sys: 10 ms, total: 109 ms\n",
      "Wall time: 101 ms\n"
     ]
    },
    {
     "data": {
      "image/png": "[encoded data removed]",
      "text/plain": [
       "<matplotlib.figure.Figure at 0x114982470>"
      ]
     },
     "metadata": {},
     "output_type": "display_data"
    }
   ],
   "source": [
    "%%time\n",
    "#md = vrl.MD('mte2015_optim', '2.0')\n",
    "spills = md.parameters.F16_BCT126.Sampler.sampleData\n",
    "trapping = np.array(list(map(lambda x: [x[0], trap(x[1], 59, 204, 3)], spills)))\n",
    "plt.plot(trapping[:,0], trapping[:,1])"
   ]
  },
  {
   "cell_type": "code",
   "execution_count": 26,
   "metadata": {
    "collapsed": false
   },
   "outputs": [
    {
     "name": "stdout",
     "output_type": "stream",
     "text": [
      "Averaging over 1002 cycles\n",
      "CPU times: user 37.7 ms, sys: 2.63 ms, total: 40.4 ms\n",
      "Wall time: 38.5 ms\n"
     ]
    },
    {
     "data": {
      "image/png": "[encoded data removed]",
      "text/plain": [
       "<matplotlib.figure.Figure at 0x112e52e10>"
      ]
     },
     "metadata": {},
     "output_type": "display_data"
    }
   ],
   "source": [
    "%%time\n",
    "blms = md.parameters.CPS_BLM.Acquisition.lastLosses\n",
    "print(\"Averaging over %d cycles\" % len(blms))\n",
    "plt.plot(np.mean([x[1] for x in blms], axis=0), 'bs', markersize=6)\n",
    "plt.plot(np.median([x[1] for x in blms], axis=0), 'rs-', markersize=6)"
   ]
  },
  {
   "cell_type": "code",
   "execution_count": 68,
   "metadata": {
    "collapsed": true
   },
   "outputs": [],
   "source": [
    "def trap(dd, l, r, s):\n",
    "    # 126 59 204 3\n",
    "    # 212 57 197 1\n",
    "    # 372 79 219 1\n",
    "    left = l\n",
    "    right = r\n",
    "    offset = s\n",
    "    indices = np.arange(left, right+1)\n",
    "    compensation = -(dd[indices[0]]-dd[indices[-1]])/(indices.size-1)\n",
    "    baseline = np.mean(dd[left-10:left])\n",
    "    spill = dd[indices]-(indices-indices[0])*compensation-baseline\n",
    "    if np.trapz(spill) > -1000:\n",
    "        return -1\n",
    "    isl_l = int((spill.size-1)/5)\n",
    "    isl = np.trapz(spill[0:4*isl_l-s])\n",
    "    core = np.trapz(spill[4*isl_l-s-1:])\n",
    "    total = np.trapz(spill)\n",
    "    eff = (isl/total)*100/4\n",
    "    return eff"
   ]
  },
  {
   "cell_type": "code",
   "execution_count": null,
   "metadata": {
    "collapsed": true
   },
   "outputs": [],
   "source": []
  }
 ],
 "metadata": {
  "kernelspec": {
   "display_name": "Python 3",
   "language": "python",
   "name": "python3"
  },
  "language_info": {
   "codemirror_mode": {
    "name": "ipython",
    "version": 3
   },
   "file_extension": ".py",
   "mimetype": "text/x-python",
   "name": "python",
   "nbconvert_exporter": "python",
   "pygments_lexer": "ipython3",
   "version": "3.5.0"
  }
 },
 "nbformat": 4,
 "nbformat_minor": 0
}

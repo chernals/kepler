{
 "cells": [
  {
   "cell_type": "markdown",
   "metadata": {},
   "source": [
    "# Varilog"
   ]
  },
  {
   "cell_type": "markdown",
   "metadata": {
    "slideshow": {
     "slide_type": "-"
    }
   },
   "source": [
    "The documentation and examples contained in this notebook detail the Python API for the **Varilog**. That Python package is called *varilog* (lowercase 'v') for obvious reasons.\n",
    "\n",
    "For more information concerning the **Varilog** and its associated components and tools, refer to the [Varilog website][1]. The project and its (open) source code is [hosted on Github][2].\n",
    "\n",
    "  [1]: http://chernals.github.io/varilog/\n",
    "  [2]: https://github.com/chernals/varilog"
   ]
  },
  {
   "cell_type": "markdown",
   "metadata": {},
   "source": [
    "## Required Python imports and Jupyter magic commands"
   ]
  },
  {
   "cell_type": "code",
   "execution_count": 12,
   "metadata": {
    "collapsed": false
   },
   "outputs": [],
   "source": [
    "# Makes the tab-completion more efficient\n",
    "%config IPCompleter.greedy=True\n",
    "# For development only\n",
    "%reload_ext autoreload\n",
    "%autoreload 2"
   ]
  },
  {
   "cell_type": "code",
   "execution_count": 4,
   "metadata": {
    "collapsed": true
   },
   "outputs": [],
   "source": [
    "# In the end this is as simple as...\n",
    "import varilog as vrl"
   ]
  },
  {
   "cell_type": "code",
   "execution_count": 5,
   "metadata": {
    "collapsed": true
   },
   "outputs": [],
   "source": [
    "%matplotlib inline\n",
    "import matplotlib.pyplot as plt\n",
    "import numpy as np"
   ]
  },
  {
   "cell_type": "markdown",
   "metadata": {},
   "source": [
    "## Exploring the available MD's and tags"
   ]
  },
  {
   "cell_type": "markdown",
   "metadata": {},
   "source": [
    "**The main object of the Python API is** *vrl.MD.*\n",
    "\n",
    "It provides access to lists of available MD's:"
   ]
  },
  {
   "cell_type": "code",
   "execution_count": 4,
   "metadata": {
    "collapsed": false
   },
   "outputs": [
    {
     "data": {
      "text/plain": [
       "['mte2015_optim', 'leir2015_test']"
      ]
     },
     "execution_count": 4,
     "metadata": {},
     "output_type": "execute_result"
    }
   ],
   "source": [
    "vrl.MD.names"
   ]
  },
  {
   "cell_type": "markdown",
   "metadata": {},
   "source": [
    "In case you want to update the list (for example after having created a new MD with the CLI):"
   ]
  },
  {
   "cell_type": "code",
   "execution_count": 5,
   "metadata": {
    "collapsed": false
   },
   "outputs": [
    {
     "data": {
      "text/plain": [
       "['mte2015_optim', 'leir2015_test']"
      ]
     },
     "execution_count": 5,
     "metadata": {},
     "output_type": "execute_result"
    }
   ],
   "source": [
    "vrl.MD.names.update()"
   ]
  },
  {
   "cell_type": "markdown",
   "metadata": {},
   "source": [
    "Note also that *vrl.MD.names* contains attributes that are representations of the MD names (try this out with tab-completion: *vrl.MD.names.<TAB>* :"
   ]
  },
  {
   "cell_type": "code",
   "execution_count": 6,
   "metadata": {
    "collapsed": false
   },
   "outputs": [
    {
     "data": {
      "text/plain": [
       "leir2015_test"
      ]
     },
     "execution_count": 6,
     "metadata": {},
     "output_type": "execute_result"
    }
   ],
   "source": [
    "vrl.MD.names.leir2015_test"
   ]
  },
  {
   "cell_type": "markdown",
   "metadata": {},
   "source": [
    "Each MD name in turn gives access to its *tags*:"
   ]
  },
  {
   "cell_type": "code",
   "execution_count": 7,
   "metadata": {
    "collapsed": false
   },
   "outputs": [
    {
     "data": {
      "text/plain": [
       "['tag1_0']"
      ]
     },
     "execution_count": 7,
     "metadata": {},
     "output_type": "execute_result"
    }
   ],
   "source": [
    "vrl.MD.names.leir2015_test.tags"
   ]
  },
  {
   "cell_type": "markdown",
   "metadata": {},
   "source": [
    "and also in the form of attribute representation (the actual tag name is prefixed with 'tag' as tags are usually numbers):"
   ]
  },
  {
   "cell_type": "code",
   "execution_count": 8,
   "metadata": {
    "collapsed": false
   },
   "outputs": [
    {
     "data": {
      "text/plain": [
       "'1.0'"
      ]
     },
     "execution_count": 8,
     "metadata": {},
     "output_type": "execute_result"
    }
   ],
   "source": [
    "vrl.MD.names.leir2015_test.tag1_0"
   ]
  },
  {
   "cell_type": "markdown",
   "metadata": {},
   "source": [
    "## Finding your MD: where the real fun starts"
   ]
  },
  {
   "cell_type": "markdown",
   "metadata": {},
   "source": [
    "*vrl.MD* objects are constructed with only two arguments: the name and the tag:"
   ]
  },
  {
   "cell_type": "code",
   "execution_count": 42,
   "metadata": {
    "collapsed": false
   },
   "outputs": [
    {
     "name": "stdout",
     "output_type": "stream",
     "text": [
      "MD found with 1 cycles and 46 devices.\n"
     ]
    }
   ],
   "source": [
    "mdleir = vrl.MD('leir2015_test', '1.0')"
   ]
  },
  {
   "cell_type": "markdown",
   "metadata": {},
   "source": [
    "This can also be done using the completion and the attributes:"
   ]
  },
  {
   "cell_type": "code",
   "execution_count": 51,
   "metadata": {
    "collapsed": false
   },
   "outputs": [
    {
     "name": "stdout",
     "output_type": "stream",
     "text": [
      "MD found with 1002 cycles and 63 devices.\n"
     ]
    }
   ],
   "source": [
    "mdmte = vrl.MD(vrl.MD.names.mte2015_optim, vrl.MD.names.mte2015_optim.tag1_0)"
   ]
  },
  {
   "cell_type": "markdown",
   "metadata": {},
   "source": [
    "Invalid names or tags are detected:"
   ]
  },
  {
   "cell_type": "code",
   "execution_count": 45,
   "metadata": {
    "collapsed": false
   },
   "outputs": [
    {
     "name": "stdout",
     "output_type": "stream",
     "text": [
      "MD name not found.\n",
      "<class 'NoneType'>\n"
     ]
    }
   ],
   "source": [
    "mdunknown = vrl.MD('nonexistant', '???')\n",
    "print(type(mdunknown))"
   ]
  },
  {
   "cell_type": "code",
   "execution_count": 50,
   "metadata": {
    "collapsed": false
   },
   "outputs": [
    {
     "name": "stdout",
     "output_type": "stream",
     "text": [
      "Tag not found for the MD.\n",
      "<class 'NoneType'>\n"
     ]
    }
   ],
   "source": [
    "mdunknown = vrl.MD(vrl.MD.names.mte2015_optim, '???')\n",
    "print(type(mdunknown))"
   ]
  },
  {
   "cell_type": "markdown",
   "metadata": {},
   "source": [
    "## Exploring the data of your MD"
   ]
  },
  {
   "cell_type": "code",
   "execution_count": 4,
   "metadata": {
    "collapsed": false
   },
   "outputs": [
    {
     "name": "stdout",
     "output_type": "stream",
     "text": [
      "MD found with 1002 cycles and 63 devices.\n"
     ]
    }
   ],
   "source": [
    "mymd = vrl.MD(vrl.MD.names.mte2015_optim, '2.0')"
   ]
  },
  {
   "cell_type": "markdown",
   "metadata": {},
   "source": [
    "Your MD object knows about the MD metadata!"
   ]
  },
  {
   "cell_type": "code",
   "execution_count": 5,
   "metadata": {
    "collapsed": false
   },
   "outputs": [
    {
     "data": {
      "text/plain": [
       "['chernals', 'sterbini']"
      ]
     },
     "execution_count": 5,
     "metadata": {},
     "output_type": "execute_result"
    }
   ],
   "source": [
    "mymd.users"
   ]
  },
  {
   "cell_type": "code",
   "execution_count": 6,
   "metadata": {
    "collapsed": false
   },
   "outputs": [
    {
     "data": {
      "text/plain": [
       "'Optimization tests'"
      ]
     },
     "execution_count": 6,
     "metadata": {},
     "output_type": "execute_result"
    }
   ],
   "source": [
    "mymd.comment"
   ]
  },
  {
   "cell_type": "markdown",
   "metadata": {},
   "source": [
    "And the MD object is aware of the parameters (Device/Property#field) attached to it. And as an added bonus you have autocompletion. The type of each parameter is provided."
   ]
  },
  {
   "cell_type": "code",
   "execution_count": 11,
   "metadata": {
    "collapsed": false
   },
   "outputs": [
    {
     "data": {
      "text/plain": [
       "{'aqnstamp': 'scalar',\n",
       " 'dataUnit': 'str',\n",
       " 'dataUnitFactor': 'scalar',\n",
       " 'firstSampleTime': 'scalar',\n",
       " 'hotSpotNames': 'numpy',\n",
       " 'hotSpotTimes': 'numpy',\n",
       " 'nHotSpots': 'scalar',\n",
       " 'nPulses': 'scalar',\n",
       " 'nSamples': 'scalar',\n",
       " 'sampleData': 'numpy',\n",
       " 'sampleTrain': 'scalar',\n",
       " 'timeUnitFactor': 'scalar',\n",
       " 'triggerName': 'str',\n",
       " 'triggerNumber': 'scalar'}"
      ]
     },
     "execution_count": 11,
     "metadata": {},
     "output_type": "execute_result"
    }
   ],
   "source": [
    "mymd.devices['F16_BCT203']['Sampler']"
   ]
  },
  {
   "cell_type": "markdown",
   "metadata": {},
   "source": [
    "## Accessing the data of your MD"
   ]
  },
  {
   "cell_type": "markdown",
   "metadata": {},
   "source": [
    "** This is where the magic happens!**\n",
    "\n",
    "Given an MD dataset it is possible to access the data in two distinct ways:\n",
    "\n",
    " - Considering each *cycle* and obtaining the values of the parameters\n",
    " - Considering each *parameter* and obtaining the timeseries values for that parameter"
   ]
  },
  {
   "cell_type": "markdown",
   "metadata": {},
   "source": [
    "### Cycles"
   ]
  },
  {
   "cell_type": "code",
   "execution_count": 108,
   "metadata": {
    "collapsed": false
   },
   "outputs": [
    {
     "name": "stdout",
     "output_type": "stream",
     "text": [
      "MD found with 372 cycles and 63 devices.\n"
     ]
    }
   ],
   "source": [
    "md = vrl.MD('mte2015_optim', '1.0')"
   ]
  },
  {
   "cell_type": "markdown",
   "metadata": {},
   "source": [
    "*md.cycles* returns a dictionnary containing all the cycles: the keys are the *cyclestamps* and the values are *Parameters* objects containing the values of all the parameters for that cycle."
   ]
  },
  {
   "cell_type": "code",
   "execution_count": 65,
   "metadata": {
    "collapsed": false
   },
   "outputs": [
    {
     "data": {
      "text/plain": [
       "{'2015-11-08T22:59:59.500000': <varilog.md.Parameters at 0x11a7f7ef0>,\n",
       " '2015-11-08T23:00:15.099999': <varilog.md.Parameters at 0x11a7f70f0>,\n",
       " '2015-11-08T23:00:58.299999': <varilog.md.Parameters at 0x11a7f73c8>,\n",
       " '2015-11-08T23:01:13.900000': <varilog.md.Parameters at 0x11a7f74e0>,\n",
       " '2015-11-08T23:01:57.099999': <varilog.md.Parameters at 0x11a7f70b8>,\n",
       " '2015-11-08T23:02:12.700000': <varilog.md.Parameters at 0x11a7f77b8>,\n",
       " '2015-11-08T23:02:55.900000': <varilog.md.Parameters at 0x11a7f7390>}"
      ]
     },
     "execution_count": 65,
     "metadata": {},
     "output_type": "execute_result"
    }
   ],
   "source": [
    "md.cycles"
   ]
  },
  {
   "cell_type": "markdown",
   "metadata": {},
   "source": [
    "This way of accessing the data supports tab-completion:"
   ]
  },
  {
   "cell_type": "code",
   "execution_count": 27,
   "metadata": {
    "collapsed": false
   },
   "outputs": [
    {
     "data": {
      "text/plain": [
       "<varilog.md.Parameters at 0x10dece9b0>"
      ]
     },
     "execution_count": 27,
     "metadata": {},
     "output_type": "execute_result"
    }
   ],
   "source": [
    "md.cycles['2015-11-08T22:59:59.500000']"
   ]
  },
  {
   "cell_type": "markdown",
   "metadata": {},
   "source": [
    "And in turn each cycle allows to access each parameters:"
   ]
  },
  {
   "cell_type": "code",
   "execution_count": 28,
   "metadata": {
    "collapsed": false
   },
   "outputs": [
    {
     "data": {
      "text/plain": [
       "[ 3998.3046875   3998.29321289  3998.26660156 ...,  3998.54370117\n",
       "  3998.50952148  3998.49072266]"
      ]
     },
     "execution_count": 28,
     "metadata": {},
     "output_type": "execute_result"
    }
   ],
   "source": [
    "md.cycles['2015-11-08T23:00:58.299999'].F16_BCT126.Sampler.sampleData"
   ]
  },
  {
   "cell_type": "markdown",
   "metadata": {},
   "source": [
    "which is a *ParameterData* object. It has a the same representation as its value and supports a bunch of convenience methods. In particular for *numpy* data we can do something like this:"
   ]
  },
  {
   "cell_type": "code",
   "execution_count": 29,
   "metadata": {
    "collapsed": false
   },
   "outputs": [
    {
     "data": {
      "text/plain": [
       "3.777212872752425"
      ]
     },
     "execution_count": 29,
     "metadata": {},
     "output_type": "execute_result"
    }
   ],
   "source": [
    "md.cycles['2015-11-08T23:00:58.299999'].F16_BCT126.Sampler.sampleData.std()"
   ]
  },
  {
   "cell_type": "markdown",
   "metadata": {},
   "source": [
    "To obtain the actual object the easiest way is to call it:"
   ]
  },
  {
   "cell_type": "code",
   "execution_count": 90,
   "metadata": {
    "collapsed": false
   },
   "outputs": [
    {
     "name": "stdout",
     "output_type": "stream",
     "text": [
      "<class 'varilog.md.ParameterData'>\n",
      "<class 'numpy.ndarray'>\n"
     ]
    }
   ],
   "source": [
    "print(type(md.cycles['2015-11-08T23:00:15.099999'].F16_DFA254_SA.Samples.samples))\n",
    "print(type(md.cycles['2015-11-08T23:00:15.099999'].F16_DFA254_SA.Samples.samples())) # Note the \"function-call\""
   ]
  },
  {
   "cell_type": "markdown",
   "metadata": {},
   "source": [
    "The most common use case is to iterate through the cycles:"
   ]
  },
  {
   "cell_type": "code",
   "execution_count": 42,
   "metadata": {
    "collapsed": false
   },
   "outputs": [
    {
     "name": "stdout",
     "output_type": "stream",
     "text": [
      "01     2015-11-09T01:36:58.299999 :  nbOfCharges\n",
      "02     2015-11-09T03:01:52.299999 :  nbOfCharges\n",
      "03     2015-11-09T00:32:46.299999 :  nbOfCharges\n",
      "04     2015-11-09T00:36:58.299999 :  nbOfCharges\n",
      "05     2015-11-09T01:32:10.299999 :  nbOfCharges\n",
      "06     2015-11-08T23:59:03.099999 :  nbOfCharges\n",
      "07     2015-11-09T00:14:28.299999 :  nbOfCharges\n",
      "08     2015-11-09T01:16:52.299999 :  nbOfCharges\n",
      "09     2015-11-09T00:18:23.500000 :  nbOfCharges\n",
      "10     2015-11-09T03:11:28.299999 :  nbOfCharges\n",
      "11     2015-11-09T04:57:40.299999 :  nbOfCharges\n",
      "12     2015-11-08T23:04:53.500000 :  nbOfCharges\n",
      "13     2015-11-09T03:16:52.299999 :  nbOfCharges\n",
      "14     2015-11-09T02:49:34.299999 :  nbOfCharges\n",
      "15     2015-11-09T00:29:10.299999 :  nbOfCharges\n",
      "16     2015-11-09T04:18:28.299999 :  nbOfCharges\n"
     ]
    }
   ],
   "source": [
    "i = 0\n",
    "for cyclestamp, data in md.cycles.items():\n",
    "    i += 1\n",
    "    print('%02d' % i, \"   \", cyclestamp, \": \", data.F16_BCT126.Sampler.dataUnit)\n",
    "    if i > 15:\n",
    "        break"
   ]
  },
  {
   "cell_type": "markdown",
   "metadata": {},
   "source": [
    "For simple operation it is useful to use list-comprehension:"
   ]
  },
  {
   "cell_type": "code",
   "execution_count": 89,
   "metadata": {
    "collapsed": false
   },
   "outputs": [
    {
     "name": "stdout",
     "output_type": "stream",
     "text": [
      "99.0493914489\n",
      "CPU times: user 1.35 ms, sys: 7 µs, total: 1.36 ms\n",
      "Wall time: 1.37 ms\n"
     ]
    }
   ],
   "source": [
    "%%time\n",
    "# Average transmission over all the cycles with cut-off value\n",
    "r = [100*x.F16_BCT203.Acquisition.totalIntensityPreferred()/x.PR_BCT.HotspotIntensity.dcBefEje1() for x in md.cycles.values() if x.PR_BCT.HotspotIntensity.dcBefEje1() >= 1450]\n",
    "print(np.mean(r))"
   ]
  },
  {
   "cell_type": "markdown",
   "metadata": {},
   "source": [
    "For more complex computations the best way is to define a function working on a ParameterData (cycle data) object and then use list comprehension. See the real-life example below."
   ]
  },
  {
   "cell_type": "code",
   "execution_count": 109,
   "metadata": {
    "collapsed": false
   },
   "outputs": [
    {
     "name": "stdout",
     "output_type": "stream",
     "text": [
      "Number of cycles after cuts:  369\n",
      "MTE efficiency mean 20.2204750018\n",
      "MTE efficiency median 20.234929186\n",
      "MTE efficiency std  0.296239358266\n",
      "Extraction efficiency mean  99.3422321154\n",
      "Extraction efficiency median  99.398055451\n",
      "Extraction efficiency std  0.432896382379\n",
      "CPU times: user 2.83 s, sys: 88.7 ms, total: 2.92 s\n",
      "Wall time: 4.19 s\n"
     ]
    }
   ],
   "source": [
    "%%time\n",
    "def trap(dd, l, r, s):\n",
    "    # 126 59 204 3\n",
    "    # 212 57 197 1\n",
    "    # 372 79 219 1\n",
    "    left = l\n",
    "    right = r\n",
    "    offset = s\n",
    "    indices = np.arange(left, right+1)\n",
    "    compensation = -(dd[indices[0]]-dd[indices[-1]])/(indices.size-1)\n",
    "    baseline = np.mean(dd[left-10:left])\n",
    "    spill = dd[indices]-(indices-indices[0])*compensation-baseline\n",
    "    if np.trapz(spill) > -1000:\n",
    "        return -1\n",
    "    isl_l = int((spill.size-1)/5)\n",
    "    isl = np.trapz(spill[0:4*isl_l-s])\n",
    "    core = np.trapz(spill[4*isl_l-s-1:])\n",
    "    total = np.trapz(spill)\n",
    "    eff = (isl/total)*100/4\n",
    "    return eff\n",
    "\n",
    "def efficiency_analysis(cycle):\n",
    "    \"\"\"\n",
    "    Compute the extraction efficiency, the trapping effiency (MTE) and the intensity and apply cut-off.\n",
    "    \"\"\"\n",
    "    extr_eff = 100 * (\n",
    "        cycle.F16_BCT126.Acquisition.totalIntensityPreferred.value/cycle.PR_BCT.HotspotIntensity.dcBefEje1.value)\n",
    "    mte_eff = trap(cycle.F16_BCT126.Sampler.sampleData.value, 59, 204, 3)\n",
    "    intensity = cycle.PR_BCT.HotspotIntensity.dcBefEje1.value\n",
    "    if extr_eff > 97 and mte_eff > 17:\n",
    "        return [intensity, extr_eff, mte_eff]\n",
    "\n",
    "# Apply the function to each cycle and filter out None values\n",
    "data = np.array(list(filter(None, [efficiency_analysis(x) for x in md.cycles.values()])))\n",
    "\n",
    "# Ouput\n",
    "print(\"Number of cycles after cuts: \", data.shape[0])\n",
    "print(\"MTE efficiency mean\", np.mean(data[:,2]))\n",
    "print(\"MTE efficiency median\", np.median(data[:,2]))\n",
    "print(\"MTE efficiency std \", np.std(data[:,2]))\n",
    "print(\"Extraction efficiency mean \", np.mean(data[:,1]))\n",
    "print(\"Extraction efficiency median \", np.median(data[:,1]))\n",
    "print(\"Extraction efficiency std \", np.std(data[:,1]))"
   ]
  },
  {
   "cell_type": "markdown",
   "metadata": {},
   "source": [
    "## Parameter timeseries"
   ]
  },
  {
   "cell_type": "markdown",
   "metadata": {},
   "source": [
    "In the **Varilog** language the parameter timeseries associated with MDs are *lightweight* timeseries and are provided\n",
    "only as a convinience for the user. Other type of timeseries exists."
   ]
  },
  {
   "cell_type": "code",
   "execution_count": 13,
   "metadata": {
    "collapsed": false
   },
   "outputs": [
    {
     "name": "stdout",
     "output_type": "stream",
     "text": [
      "MD found with 1002 cycles and 63 devices.\n"
     ]
    }
   ],
   "source": [
    "md = vrl.MD('mte2015_optim', '1.0')"
   ]
  },
  {
   "cell_type": "markdown",
   "metadata": {},
   "source": [
    "The *cycles* attribute returns an object which can basically be viewed as nested dictionnaries with keys composing *device/Property#field* parameters and with values being the timeseries representation of that parameter over the cyclestamps of the MD."
   ]
  },
  {
   "cell_type": "code",
   "execution_count": 14,
   "metadata": {
    "collapsed": false
   },
   "outputs": [
    {
     "data": {
      "text/plain": [
       "{'BPMTFL_TT2': <varilog.md.SmartDict at 0x109a3f198>,\n",
       " 'CPS_BLM': <varilog.md.SmartDict at 0x108d16940>,\n",
       " 'F16_BCT126': <varilog.md.SmartDict at 0x108d00be0>,\n",
       " 'F16_BCT203': <varilog.md.SmartDict at 0x108d03e10>,\n",
       " 'F16_BCT212': <varilog.md.SmartDict at 0x108d06e10>,\n",
       " 'F16_BCT372': <varilog.md.SmartDict at 0x108d128d0>,\n",
       " 'F16_DFA254_SA': <varilog.md.SmartDict at 0x108d15cc0>,\n",
       " 'FTD_BCT386': <varilog.md.SmartDict at 0x108d172b0>,\n",
       " 'PA_GSRPOS': <varilog.md.SmartDict at 0x108cf3780>,\n",
       " 'PA_HX_ST': <varilog.md.SmartDict at 0x108d0ca90>,\n",
       " 'PA_HY_ST': <varilog.md.SmartDict at 0x108cf3f60>,\n",
       " 'PA_SIMFREQSPS': <varilog.md.SmartDict at 0x108d03b70>,\n",
       " 'PA_TFB_DSPU_H': <varilog.md.SmartDict at 0x108cfc9b0>,\n",
       " 'PA_VPSUMX_ST': <varilog.md.SmartDict at 0x108cf5240>,\n",
       " 'PA_VPSUMY_ST': <varilog.md.SmartDict at 0x108d10fd0>,\n",
       " 'PE_BFA09PED_SA': <varilog.md.SmartDict at 0x108d0ea90>,\n",
       " 'PE_KFA13': <varilog.md.SmartDict at 0x108d15240>,\n",
       " 'PE_KFA21': <varilog.md.SmartDict at 0x108cfe780>,\n",
       " 'PE_KFA4': <varilog.md.SmartDict at 0x108cfb1d0>,\n",
       " 'PE_KFA71': <varilog.md.SmartDict at 0x108d10b00>,\n",
       " 'PE_SAKFA13': <varilog.md.SmartDict at 0x108d16320>,\n",
       " 'PE_SAKFA21': <varilog.md.SmartDict at 0x1079ae828>,\n",
       " 'PE_SAKFA4': <varilog.md.SmartDict at 0x108cf4be0>,\n",
       " 'PE_SMH16HZAN': <varilog.md.SmartDict at 0x1079aeba8>,\n",
       " 'PE_SMH16HZPO': <varilog.md.SmartDict at 0x108d18ef0>,\n",
       " 'PE_TPS15_359_CONTROLLER': <varilog.md.SmartDict at 0x108cfff60>,\n",
       " 'PR_BCT': <varilog.md.SmartDict at 0x108d0d0f0>,\n",
       " 'PR_BCT_ST': <varilog.md.SmartDict at 0x108d1a400>,\n",
       " 'PR_BPM': <varilog.md.SmartDict at 0x108cf5860>,\n",
       " 'PR_BQL72': <varilog.md.SmartDict at 0x108d09780>,\n",
       " 'PR_BQS72': <varilog.md.SmartDict at 0x1079aee48>,\n",
       " 'PR_GSDHZ05_FT': <varilog.md.SmartDict at 0x108d16f60>,\n",
       " 'PR_GSDHZ18_FT': <varilog.md.SmartDict at 0x108d10cc0>,\n",
       " 'PR_GSDHZ60_FT': <varilog.md.SmartDict at 0x108d190f0>,\n",
       " 'PR_GSODN': <varilog.md.SmartDict at 0x1079a2f60>,\n",
       " 'PR_GSONO39': <varilog.md.SmartDict at 0x108d06b00>,\n",
       " 'PR_GSONO55': <varilog.md.SmartDict at 0x108d1bb70>,\n",
       " 'PR_GSQSK': <varilog.md.SmartDict at 0x1079aec88>,\n",
       " 'PR_GSXNO39': <varilog.md.SmartDict at 0x108d00a20>,\n",
       " 'PR_GSXNO55': <varilog.md.SmartDict at 0x108d120f0>,\n",
       " 'PR_ODN_SD': <varilog.md.SmartDict at 0x108d03550>,\n",
       " 'PR_ONO39_SD': <varilog.md.SmartDict at 0x108cfee80>,\n",
       " 'PR_ONO55_SD': <varilog.md.SmartDict at 0x108cfc390>,\n",
       " 'PR_SCBFC': <varilog.md.SmartDict at 0x108d0fb70>,\n",
       " 'PR_SCOPE13_CH01': <varilog.md.SmartDict at 0x108d11630>,\n",
       " 'PR_SCOPE13_CH02': <varilog.md.SmartDict at 0x108cff4e0>,\n",
       " 'PR_SCOPE38_CH01': <varilog.md.SmartDict at 0x108d1aa20>,\n",
       " 'PR_SCOPE48_CH01': <varilog.md.SmartDict at 0x108cfb8d0>,\n",
       " 'PR_SCOPE51_CH01': <varilog.md.SmartDict at 0x108d0f0f0>,\n",
       " 'PR_W8L_SD': <varilog.md.SmartDict at 0x108d1bda0>,\n",
       " 'PR_WDNI_SD': <varilog.md.SmartDict at 0x108cfe160>,\n",
       " 'PR_WDNP_SD': <varilog.md.SmartDict at 0x108d1b400>,\n",
       " 'PR_WDW_SD': <varilog.md.SmartDict at 0x108cf3940>,\n",
       " 'PR_WFNI_SD': <varilog.md.SmartDict at 0x108d122b0>,\n",
       " 'PR_WFNP_SD': <varilog.md.SmartDict at 0x108d19a20>,\n",
       " 'PR_WFW_SD': <varilog.md.SmartDict at 0x108cf45c0>,\n",
       " 'PR_XNO39_SD': <varilog.md.SmartDict at 0x108d19400>,\n",
       " 'PR_XNO55_SD': <varilog.md.SmartDict at 0x108d0e470>,\n",
       " 'PX_C_STRT_OAS': <varilog.md.SmartDict at 0x108cfdda0>,\n",
       " 'PX_C_TREV_OAS': <varilog.md.SmartDict at 0x108d06780>,\n",
       " 'PX_N_MEAS': <varilog.md.SmartDict at 0x108d1a080>,\n",
       " 'PX_TREV_INTER': <varilog.md.SmartDict at 0x108d006a0>,\n",
       " 'PX_TRF_DELAY': <varilog.md.SmartDict at 0x108d15940>,\n",
       " '_p': <varilog.md.Parameters at 0x109a3f128>}"
      ]
     },
     "execution_count": 14,
     "metadata": {},
     "output_type": "execute_result"
    }
   ],
   "source": [
    "md.cycles()"
   ]
  },
  {
   "cell_type": "markdown",
   "metadata": {},
   "source": [
    "They can be explored using tab-completion:"
   ]
  },
  {
   "cell_type": "code",
   "execution_count": 114,
   "metadata": {
    "collapsed": false
   },
   "outputs": [
    {
     "name": "stdout",
     "output_type": "stream",
     "text": [
      "Data queried in 0.430812 seconds.\n"
     ]
    },
    {
     "data": {
      "text/plain": [
       "[[datetime.datetime(2015, 11, 8, 22, 59, 59, 500000) 65.0]\n",
       " [datetime.datetime(2015, 11, 8, 23, 0, 15, 99999) 63.0]\n",
       " [datetime.datetime(2015, 11, 8, 23, 0, 58, 299999) 68.0]\n",
       " ..., \n",
       " [datetime.datetime(2015, 11, 9, 2, 32, 46, 299999) 63.0]\n",
       " [datetime.datetime(2015, 11, 9, 2, 33, 4, 299999) 65.0]\n",
       " [datetime.datetime(2015, 11, 9, 2, 33, 22, 299999) 65.0]]"
      ]
     },
     "execution_count": 114,
     "metadata": {},
     "output_type": "execute_result"
    }
   ],
   "source": [
    "md.cycles.FTD_BCT386.Acquisition.inputOffsetCh2"
   ]
  },
  {
   "cell_type": "markdown",
   "metadata": {},
   "source": [
    "It is rather easy to obtain basic plots for these parameters. Also note that the data are queried only once in this example so there is no need for temporary variables."
   ]
  },
  {
   "cell_type": "code",
   "execution_count": 15,
   "metadata": {
    "collapsed": false
   },
   "outputs": [
    {
     "name": "stdout",
     "output_type": "stream",
     "text": [
      "Data queried in 2.222445 seconds.\n",
      "Data queried in 0.554232 seconds.\n",
      "CPU times: user 122 ms, sys: 33 ms, total: 155 ms\n",
      "Wall time: 2.82 s\n"
     ]
    },
    {
     "data": {
      "image/png": "[encoded data removed]",
      "text/plain": [
       "<matplotlib.figure.Figure at 0x109aec5f8>"
      ]
     },
     "metadata": {},
     "output_type": "display_data"
    }
   ],
   "source": [
    "%%time\n",
    "plt.plot(md.cycles.PR_BCT.HotspotIntensity.dcAftInj1[:,0],md.cycles.PR_BCT.HotspotIntensity.dcAftInj1[:,1])\n",
    "plt.plot(md.cycles.PR_BCT.HotspotIntensity.dcBefEje1[:,0],md.cycles.PR_BCT.HotspotIntensity.dcBefEje1[:,1])"
   ]
  },
  {
   "cell_type": "code",
   "execution_count": 18,
   "metadata": {
    "collapsed": false
   },
   "outputs": [
    {
     "data": {
      "text/plain": [
       "[<matplotlib.lines.Line2D at 0x10a9e1400>]"
      ]
     },
     "execution_count": 18,
     "metadata": {},
     "output_type": "execute_result"
    },
    {
     "data": {
      "image/png": "[encoded data removed]",
      "text/plain": [
       "<matplotlib.figure.Figure at 0x10aaae198>"
      ]
     },
     "metadata": {},
     "output_type": "display_data"
    }
   ],
   "source": [
    "plt.plot(md.cycles.PR_BCT.HotspotIntensity.dcAftInj1[:,1],md.cycles.PR_BCT.HotspotIntensity.dcBefEje1[:,1], '.')"
   ]
  },
  {
   "cell_type": "markdown",
   "metadata": {},
   "source": [
    "It is also possible to use `map`. However the implementation here is not very elegant."
   ]
  },
  {
   "cell_type": "code",
   "execution_count": 123,
   "metadata": {
    "collapsed": false
   },
   "outputs": [
    {
     "name": "stdout",
     "output_type": "stream",
     "text": [
      "CPU times: user 90.5 ms, sys: 9.72 ms, total: 100 ms\n",
      "Wall time: 93.5 ms\n"
     ]
    },
    {
     "data": {
      "image/png": "[encoded data removed]",
      "text/plain": [
       "<matplotlib.figure.Figure at 0x11acb4e80>"
      ]
     },
     "metadata": {},
     "output_type": "display_data"
    }
   ],
   "source": [
    "%%time\n",
    "#md = vrl.MD('mte2015_optim', '1.0')\n",
    "spills = md.parameters.F16_BCT126.Sampler.sampleData\n",
    "trapping = np.array(list(map(lambda x: [x[0], trap(x[1], 59, 204, 3)], spills)))\n",
    "plt.plot(trapping[:,0], trapping[:,1])"
   ]
  },
  {
   "cell_type": "markdown",
   "metadata": {},
   "source": [
    "The following example shows a clean use-case for timeseries."
   ]
  },
  {
   "cell_type": "code",
   "execution_count": 125,
   "metadata": {
    "collapsed": false
   },
   "outputs": [
    {
     "name": "stdout",
     "output_type": "stream",
     "text": [
      "Averaging over 785 cycles\n",
      "CPU times: user 44.1 ms, sys: 3.1 ms, total: 47.2 ms\n",
      "Wall time: 45.6 ms\n"
     ]
    },
    {
     "data": {
      "image/png": "[encoded data removed]",
      "text/plain": [
       "<matplotlib.figure.Figure at 0x11e8943c8>"
      ]
     },
     "metadata": {},
     "output_type": "display_data"
    }
   ],
   "source": [
    "%%time\n",
    "blms = md.parameters.CPS_BLM.Acquisition.lastLosses\n",
    "print(\"Averaging over %d cycles\" % len(blms))\n",
    "plt.plot(np.mean([x[1] for x in blms], axis=0), 'bs', markersize=6)\n",
    "plt.plot(np.median([x[1] for x in blms], axis=0), 'rs--', markersize=6)"
   ]
  }
 ],
 "metadata": {
  "kernelspec": {
   "display_name": "Python 3",
   "language": "python",
   "name": "python3"
  },
  "language_info": {
   "codemirror_mode": {
    "name": "ipython",
    "version": 3
   },
   "file_extension": ".py",
   "mimetype": "text/x-python",
   "name": "python",
   "nbconvert_exporter": "python",
   "pygments_lexer": "ipython3",
   "version": "3.5.0"
  }
 },
 "nbformat": 4,
 "nbformat_minor": 0
}
